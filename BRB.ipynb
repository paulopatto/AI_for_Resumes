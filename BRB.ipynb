{
  "nbformat": 4,
  "nbformat_minor": 0,
  "metadata": {
    "colab": {
      "provenance": [],
      "authorship_tag": "ABX9TyNKVHBmGwAv3kqSXt8yw+Cz",
      "include_colab_link": true
    },
    "kernelspec": {
      "name": "python3",
      "display_name": "Python 3"
    },
    "language_info": {
      "name": "python"
    }
  },
  "cells": [
    {
      "cell_type": "markdown",
      "metadata": {
        "id": "view-in-github",
        "colab_type": "text"
      },
      "source": [
        "<a href=\"https://colab.research.google.com/github/paulopatto/AI_for_Resumes/blob/master/BRB.ipynb\" target=\"_parent\"><img src=\"https://colab.research.google.com/assets/colab-badge.svg\" alt=\"Open In Colab\"/></a>"
      ]
    },
    {
      "cell_type": "markdown",
      "source": [
        "# Be Right Back (BRB)\n",
        "\n",
        "Criando uma versão virtual e análise sobre personalidade com base em dados de redes sociais."
      ],
      "metadata": {
        "id": "RiNg-KnOjIpm"
      }
    },
    {
      "cell_type": "markdown",
      "source": [
        "## Introdução: Revivendo Conversas com Agentes LLM Inspirados em \"Be Right Back\"\n",
        "\n",
        "O luto é uma experiência universal e complexa, marcada pela dor da perda e pelo desejo de manter a conexão com aqueles que se foram. O episódio \"[Be Right Back](https://en.wikipedia.org/wiki/Be_Right_Back) (S2E1)\" da série Black Mirror explora essa temática de forma inquietante e reflexiva, apresentando um futuro onde a tecnologia permite a criação de replicas virtuais de pessoas falecidas a partir de suas mídias sociais e dados pessoais.\n",
        "\n",
        "Inspirados por essa ficção científica, embarcamos em um projeto ambicioso: a criação de um sistema de agentes LLM (Large Language Models) capaz de imitar padrões conversacionais de indivíduos com base em seus históricos de interação em plataformas online, como WhatsApp e redes sociais. Através da integração de modelos de linguagem avançados como Gemini Pro, CrewAI e Longchain, nosso objetivo é desenvolver um sistema que permita:\n",
        "\n",
        "- **Recriar conversas ou simular conversas**: O sistema será capaz de analisar logs de conversas do WhatsApp ~~e outros canais online~~(melhoria futura) para capturar o estilo, vocabulário e tom de voz do usuário, permitindo a geração de novas conversas que simulam a sua presença.\n",
        "- **Manter a conexão**: Ao oferecer a possibilidade de interagir com uma versão virtual  da pessoa, no caso proposto na série, com uma versão virtual do falecido, o sistema visa auxiliar no processo de luto, fornecendo um espaço para compartilhar memórias, expressar sentimentos e manter viva a lembrança da pessoa amada. Porém este projeto entende que isso pode trazer um prolongamento do sofrimento do luto e pode ser usado em situções onde uma pessoa VIVA possa quere colocar uma versão virtual de si para responder mensganes e fazer tarefas do dia-a-dia.\n",
        "\n",
        "### Considerações Éticas\n",
        "\n",
        "O desenvolvimento de um sistema como este levanta importantes questões éticas que precisam ser cuidadosamente ponderadas. É fundamental garantir que a tecnologia seja utilizada de forma responsável e respeitosa, evitando a manipulação emocional dos usuários e a perpetuação de crenças falsas sobre a consciência ou imortalidade.\n",
        "Outras obras do cinema como [Transcendente - A revolução](https://en.wikipedia.org/wiki/Transcendence_(2014_film))"
      ],
      "metadata": {
        "id": "KZ-4aHY2k7LG"
      }
    },
    {
      "cell_type": "markdown",
      "source": [
        "## Gerando dados para treinamento dos agentes\n",
        "\n",
        "Para que nossos agentes (crew) possam aprender como você (ou a pessoa que você quer análisar) falam, vamos precisar pegar um padrão conversacional e para  imitar e/ou gerar uma linguagem humana de forma natural e envolvente e para que nossos agentes alcancem o máximo potencial, é crucial treinalo com dados de  alta qualidade e onde a pessoal se mostrou de forma mais natural para o propósito da aplicação. É aí que entra a riqueza de informações contida nas conversas do aplicativo WhatsApp (mas relaxa em nossa versão Google Colab, você vai fazer isso dentro do seu Google Drive e você só vai compartilhar suas informações com o Gemini do Google).\n",
        "\n",
        "\n",
        "### Exportando Conversas do WhatsApp (dump)\n",
        "\n",
        "#### Conversas especificas\n",
        "\n",
        "Poder ser que vocẽ queira compartilhar apenas alguns contextos e por isso pode escolher as conversas que vai exportar, para isso tanto em Android como iPhone seiga esses passos:\n",
        "\n",
        "- Abra o WhatsApp e acesse a conversa desejada.\n",
        "- Toque nos três pontos no canto superior direito da tela.\n",
        "- Selecione \"Mais\" > \"Exportar conversa\".\n",
        "- Escolha entre \"Sem arquivos\" ou \"Incluir arquivos de mídia\".\n",
        "- Confirme a exportação e selecione o local para salvar o arquivo (TXT).\n",
        "\n",
        "#### Utilizando Backups Existentes\n",
        "\n",
        "Essa opção vai pegar todo o universo conversacional do Whatsapp nos mais diversos contextos, pode ser mais arriscado mas é a mais rica, lembra na série quando a Martha compsrtilha todo o arquivo de e-mails do Ash em como ele fica bem melhor? Pois é.\n",
        "\n",
        "**Na plataforma Google Android você pode seguir:**\n",
        "\n",
        "- Localize o arquivo de backup do WhatsApp (geralmente em `Armazenamento Interno > WhatsApp > Databases`).\n",
        "- Extraia o arquivo de backup usando um software de extração.\n",
        "- Acesse a pasta \"msgstore.db\" dentro do backup extraído.\n",
        "- Utilize ferramentas específicas (como o SQLite Viewer) para abrir e exportar as conversas desejadas.\n",
        "\n",
        "**Na plataforma Apple iPhone**\n",
        "\n",
        "- Conecte o iPhone ao computador e abra o iTunes.\n",
        "- Selecione o dispositivo e clique em \"Backup Agora\".\n",
        "- Localize o backup do WhatsApp no computador (geralmente em `Usuários > ${Nome do Usuário} > AppData > Roaming > Apple Computer > MobileSync > Backup`).\n",
        "- Extraia o arquivo de backup usando um software de extração.\n",
        "- Acesse a pasta \"ChatDatabase.sqlite\" dentro do backup extraído.\n",
        "- Utilize ferramentas específicas (como o SQLite Viewer) para abrir e exportar as conversas desejadas.\n",
        "\n",
        "(*) Sei que ficou bem nerd e isso pode melhor muito no processo\n",
        "\n",
        "\n",
        "### Organizando para subir\n",
        "\n",
        "Coloque todas as conversas (*.txt) exportadas pelo dump em uma mesma pasta, não vamos compactar pois em alguns testes a compactação não ficou legal, mas isso pode ser corrigido no futuro.\n",
        "\n",
        "**Versão Google Colab**\n",
        "\n",
        "Na versão Google colab você pode subir para a pasta de arquivos temposários com o nome da pasta como `Conversas`\n",
        "\n",
        "**Versão StandAlone python**\n",
        "\n",
        "Ainda não sei como seria a melhor forma!\n",
        "\n",
        "\n",
        "Feito isso vamos rodar o modelo!"
      ],
      "metadata": {
        "id": "TiO56VH97acY"
      }
    },
    {
      "cell_type": "markdown",
      "source": [
        "## Desenvolvimento\n",
        "\n",
        "O desenvolviment"
      ],
      "metadata": {
        "id": "xDW2fF496Qy0"
      }
    },
    {
      "cell_type": "markdown",
      "source": [
        "### Setup Env\n",
        "\n",
        "- Install Libs\n",
        "- Setup APIKEY\n",
        "- Setup Model com Longchain"
      ],
      "metadata": {
        "id": "AOleuoXe6nTH"
      }
    },
    {
      "cell_type": "code",
      "execution_count": 2,
      "metadata": {
        "id": "Na28-h942fSC"
      },
      "outputs": [],
      "source": [
        "!pip install -q -U google-generativeai crewai langchain_google_genai crewai[tools]"
      ]
    },
    {
      "cell_type": "code",
      "source": [
        "from google.colab import userdata\n",
        "import google.generativeai as genai\n",
        "\n",
        "LLM_MODEL = 'gemini-pro'\n",
        "GEMINI_API_KEY=userdata.get('GEMINI_API_KEY')\n",
        "genai.configure(api_key=GEMINI_API_KEY)\n",
        "model = genai.GenerativeModel(LLM_MODEL)\n",
        "#response = model.generate_content(\"Write a story about a magic backpack.\")\n",
        "#print(response.text)\n"
      ],
      "metadata": {
        "id": "gMMojWBG2wku"
      },
      "execution_count": 3,
      "outputs": []
    },
    {
      "cell_type": "code",
      "source": [
        "import os\n",
        "from langchain_google_genai import ChatGoogleGenerativeAI\n",
        "from crewai import Agent, Task, Crew, Process\n",
        "\n",
        "llm = ChatGoogleGenerativeAI(\n",
        "  model=LLM_MODEL,\n",
        "  verbose = True,\n",
        "  temperature = 0.6,\n",
        "  google_api_key=GEMINI_API_KEY\n",
        ")"
      ],
      "metadata": {
        "id": "XFHN8PMl5-aN"
      },
      "execution_count": 4,
      "outputs": []
    },
    {
      "cell_type": "markdown",
      "source": [
        "### Agentes\n",
        "\n",
        "Criação dos agentes"
      ],
      "metadata": {
        "id": "7MJSgF6c6aN3"
      }
    },
    {
      "cell_type": "markdown",
      "source": [
        "#### Profilers\n",
        "\n"
      ],
      "metadata": {
        "id": "JBcE2kL666Yt"
      }
    },
    {
      "cell_type": "code",
      "source": [
        "#\n",
        "from crewai_tools import DirectoryReadTool\n",
        "\n",
        "readDirectoryTool = DirectoryReadTool(directory=chats_folder)\n",
        "profiler_agent = Agent(\n",
        "  role='Senior profiler analyst',\n",
        "  goal=f\"\"\"\n",
        "  Leia cada um dos arquivos texto (extensão .txt) na pasta {chats_folder} que vou chamar de 'pasta de conversas'\n",
        "  Para cada arquivos você deve analisar o conteúdo do chat\n",
        "  Sua expertise consiste em identificar padrões de mensagens nos chats e classificá-los nos mais diversos contextos.\n",
        "  Irá fazer uma análise do padrão de conversação do Ator {target_actor} nos diferentes contextos em que se encontra\n",
        "  \"\"\",\n",
        "  backstory=\"\"\"\n",
        "  Você trabalha em um departamento de análise de mensagen, analisando e classificando textos de mensagens.\n",
        "  Sua expertise consiste em identificar padrões de mensagens e classificá-los nos mais diversos contextos.\n",
        "  Você deve ser capaz de identificar se o Ator sempre inicia suas mensagens com determinados padrões\n",
        "  \"\"\",\n",
        "  verbose=True,\n",
        "  allow_delegation=False,\n",
        "  llm = llm,\n",
        "  tools=[ readDirectoryTool ],\n",
        ")\n",
        "task1 = Task(\n",
        "    agent=profiler_agent,\n",
        "    description=f\"\"\"\n",
        "    Conduza uma análise de todos os arquivos de texto na pasta de conversas.\n",
        "    Identifique os pontos-chave dos padrões de conversação do {target_actor} e salve-os em seu contexto para uso futuro.\n",
        "    \"\"\",\n",
        "    expected_output = f\"\"\"\n",
        "    Sua resposta final DEVE ser um relatório completo sobre o padrão de conversas do Ator contendo:\n",
        "    - Os diferentes contextos em que {target_actor} se encontra\n",
        "    - Exemplos de como {target_actor} inicia suas conversas nos diferentes contextos\n",
        "    - Insight sobre a personalidade de {target_actor}\n",
        "    - Faça uma cópia de sua análise em formato Markdown no seguinte arquivo de saída  /content/sample_data/profiler_analyst/{target_actor}_profile.md, se o arquivo não existir, crie ele salve seu relatório markedon nele.\n",
        "\n",
        "    Sua resposta deve ser em Portugues do Brasil com um padrão de resposta formal e técnico.\n",
        "    \"\"\"\n",
        ")\n",
        "\n"
      ],
      "metadata": {
        "id": "fMp1F-RUG7ke"
      },
      "execution_count": null,
      "outputs": []
    },
    {
      "cell_type": "code",
      "source": [
        "# main.py\n",
        "\n",
        "target_actor = input(\"Quem é o ator alvo da análise (nome que usa no whatsapp)?\\n\")\n",
        "chats_folder = '/content/Conversas'\n",
        "\n",
        "crew = Crew(agents=[profiler_agent], tasks=[task1], verbose=2, process=Process.sequential)\n",
        "result = crew.kickoff()\n",
        "print(result)"
      ],
      "metadata": {
        "id": "QCudhVr4LBLO"
      },
      "execution_count": null,
      "outputs": []
    },
    {
      "cell_type": "code",
      "source": [],
      "metadata": {
        "id": "F2CpBP-nLDJM"
      },
      "execution_count": null,
      "outputs": []
    }
  ]
}